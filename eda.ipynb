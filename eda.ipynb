{
 "cells": [
  {
   "cell_type": "code",
   "execution_count": 1,
   "metadata": {},
   "outputs": [],
   "source": [
    "# импорт необходимых библиотек\n",
    "import os\n",
    "import re\n",
    "import pandas as pd\n",
    "import numpy as np\n",
    "from typing import List\n",
    "from docx import Document\n",
    "import matplotlib.pyplot as plt\n",
    "import seaborn as sns\n",
    "\n",
    "%matplotlib inline"
   ]
  },
  {
   "cell_type": "code",
   "execution_count": 2,
   "metadata": {},
   "outputs": [],
   "source": [
    "# путь к директории с файлами\n",
    "directory = \"data/train_data/\""
   ]
  },
  {
   "cell_type": "code",
   "execution_count": 3,
   "metadata": {},
   "outputs": [],
   "source": [
    "# списки файлов HMI и SSTS\n",
    "hmi_files = []\n",
    "ssts_files = []\n",
    "\n",
    "# получение patch файлов по контексту\n",
    "for root, dirs, files in os.walk(directory, topdown = False):\n",
    "   for name in files:\n",
    "      # файлы директории HMI\n",
    "      if \"HMI\" in root:\n",
    "         hmi_files.append(os.path.join(root, name))\n",
    "      # файлы директории SSTS\n",
    "      if \"SSTS\" in root:\n",
    "         ssts_files.append(os.path.join(root, name))"
   ]
  },
  {
   "cell_type": "code",
   "execution_count": 4,
   "metadata": {},
   "outputs": [
    {
     "data": {
      "text/plain": [
       "(12, 11)"
      ]
     },
     "execution_count": 4,
     "metadata": {},
     "output_type": "execute_result"
    }
   ],
   "source": [
    "# проверка данных\n",
    "len(hmi_files), len(ssts_files)"
   ]
  },
  {
   "cell_type": "code",
   "execution_count": 5,
   "metadata": {},
   "outputs": [],
   "source": [
    "def open_docx_file(pacth: str, file_folder: str)-> List[str]:\n",
    "    \"\"\"функция извлечения текста из файлов с расширением .docx\n",
    "\n",
    "    Args:\n",
    "        pacth (str): путь к файлу\n",
    "\n",
    "    Returns:\n",
    "        List[str]: [наименование функции, текс файла]\n",
    "    \"\"\"\n",
    "\n",
    "    document = Document(pacth)\n",
    "    paragraphs = [p.text.strip().replace(\"\\xa0\", \" \") for p in document.paragraphs if len(p.text) != 0]\n",
    "\n",
    "    if file_folder == \"HMI\":\n",
    "        return [paragraphs[0].split(\"]\")[-1].strip(), \" \".join(paragraphs[1:])]\n",
    "    if file_folder == \"SSTS\":\n",
    "        return [paragraphs[0].strip(), \" \".join(paragraphs[1:])]"
   ]
  },
  {
   "cell_type": "code",
   "execution_count": 6,
   "metadata": {},
   "outputs": [],
   "source": [
    "def findall_numbers(text: str) -> int:\n",
    "    \"\"\"функция извлечения номера файла из patch файла\n",
    "\n",
    "    Args:\n",
    "        text (str): путь к файлу\n",
    "\n",
    "    Returns:\n",
    "        int: номер файла\n",
    "    \"\"\"\n",
    "    numbers = re.findall(r'\\b\\d+\\b', text)\n",
    "    return numbers[0]"
   ]
  },
  {
   "cell_type": "code",
   "execution_count": 7,
   "metadata": {},
   "outputs": [],
   "source": [
    "# обработка файлов HMI \n",
    "hmi_text = []\n",
    "for hmi_file in hmi_files:\n",
    "    name, text = open_docx_file(hmi_file, \"HMI\")\n",
    "    number = findall_numbers(hmi_file)\n",
    "    hmi_text.append([number, name, text])"
   ]
  },
  {
   "cell_type": "code",
   "execution_count": 8,
   "metadata": {},
   "outputs": [],
   "source": [
    "# обработка файлов SSTS \n",
    "ssts_text = []\n",
    "for ssts_file in ssts_files:\n",
    "    name, text = open_docx_file(ssts_file, \"SSTS\")\n",
    "    number = findall_numbers(ssts_file)\n",
    "    ssts_text.append([number, name, text])"
   ]
  },
  {
   "cell_type": "code",
   "execution_count": 9,
   "metadata": {},
   "outputs": [
    {
     "data": {
      "text/html": [
       "<div>\n",
       "<style scoped>\n",
       "    .dataframe tbody tr th:only-of-type {\n",
       "        vertical-align: middle;\n",
       "    }\n",
       "\n",
       "    .dataframe tbody tr th {\n",
       "        vertical-align: top;\n",
       "    }\n",
       "\n",
       "    .dataframe thead th {\n",
       "        text-align: right;\n",
       "    }\n",
       "</style>\n",
       "<table border=\"1\" class=\"dataframe\">\n",
       "  <thead>\n",
       "    <tr style=\"text-align: right;\">\n",
       "      <th></th>\n",
       "      <th>Number</th>\n",
       "      <th>Name</th>\n",
       "      <th>Text</th>\n",
       "    </tr>\n",
       "  </thead>\n",
       "  <tbody>\n",
       "    <tr>\n",
       "      <th>0</th>\n",
       "      <td>31523</td>\n",
       "      <td>Adding Internet Radio to Favorites List</td>\n",
       "      <td>Description: Use Case: Adding Internet Radio t...</td>\n",
       "    </tr>\n",
       "    <tr>\n",
       "      <th>1</th>\n",
       "      <td>8800</td>\n",
       "      <td>Receiving Call Notifications</td>\n",
       "      <td>Preconditions Entertainment system is ready. i...</td>\n",
       "    </tr>\n",
       "    <tr>\n",
       "      <th>2</th>\n",
       "      <td>11467</td>\n",
       "      <td>Revoke access to the vehicle from a driver or ...</td>\n",
       "      <td>Goal: Enable the Owner to quickly revoke acces...</td>\n",
       "    </tr>\n",
       "    <tr>\n",
       "      <th>3</th>\n",
       "      <td>28561</td>\n",
       "      <td>Setting Hotspot name &amp; password</td>\n",
       "      <td>Use-Case Title: \"Setting Hotspot name &amp; passwo...</td>\n",
       "    </tr>\n",
       "    <tr>\n",
       "      <th>4</th>\n",
       "      <td>30371</td>\n",
       "      <td>ERA Self-diagnosis</td>\n",
       "      <td>Actors: ERA-Glonass system Description: ERA se...</td>\n",
       "    </tr>\n",
       "  </tbody>\n",
       "</table>\n",
       "</div>"
      ],
      "text/plain": [
       "  Number                                               Name  \\\n",
       "0  31523            Adding Internet Radio to Favorites List   \n",
       "1   8800                       Receiving Call Notifications   \n",
       "2  11467  Revoke access to the vehicle from a driver or ...   \n",
       "3  28561                    Setting Hotspot name & password   \n",
       "4  30371                                 ERA Self-diagnosis   \n",
       "\n",
       "                                                Text  \n",
       "0  Description: Use Case: Adding Internet Radio t...  \n",
       "1  Preconditions Entertainment system is ready. i...  \n",
       "2  Goal: Enable the Owner to quickly revoke acces...  \n",
       "3  Use-Case Title: \"Setting Hotspot name & passwo...  \n",
       "4  Actors: ERA-Glonass system Description: ERA se...  "
      ]
     },
     "execution_count": 9,
     "metadata": {},
     "output_type": "execute_result"
    }
   ],
   "source": [
    "# преобразование в DataFrame\n",
    "hmi_df = pd.DataFrame(hmi_text, columns=[\"Number\", \"Name\", \"Text\"])\n",
    "hmi_df.head() "
   ]
  },
  {
   "cell_type": "code",
   "execution_count": 10,
   "metadata": {},
   "outputs": [],
   "source": [
    "# удаление не релевантного текста\n",
    "hmi_df[\"Text\"] = hmi_df[\"Text\"].apply(lambda x: \" \".join(x.split()[1:]) if \"Description\" in x else x)"
   ]
  },
  {
   "cell_type": "code",
   "execution_count": 11,
   "metadata": {},
   "outputs": [
    {
     "data": {
      "text/html": [
       "<div>\n",
       "<style scoped>\n",
       "    .dataframe tbody tr th:only-of-type {\n",
       "        vertical-align: middle;\n",
       "    }\n",
       "\n",
       "    .dataframe tbody tr th {\n",
       "        vertical-align: top;\n",
       "    }\n",
       "\n",
       "    .dataframe thead th {\n",
       "        text-align: right;\n",
       "    }\n",
       "</style>\n",
       "<table border=\"1\" class=\"dataframe\">\n",
       "  <thead>\n",
       "    <tr style=\"text-align: right;\">\n",
       "      <th></th>\n",
       "      <th>Number</th>\n",
       "      <th>Name</th>\n",
       "      <th>Text</th>\n",
       "    </tr>\n",
       "  </thead>\n",
       "  <tbody>\n",
       "    <tr>\n",
       "      <th>0</th>\n",
       "      <td>26771</td>\n",
       "      <td>Turn on and off hotspot</td>\n",
       "      <td>Functional Description Users can choose to tur...</td>\n",
       "    </tr>\n",
       "    <tr>\n",
       "      <th>1</th>\n",
       "      <td>8692</td>\n",
       "      <td>Manual dialing E-CALL</td>\n",
       "      <td>Functional Description The user presses the SO...</td>\n",
       "    </tr>\n",
       "    <tr>\n",
       "      <th>2</th>\n",
       "      <td>25957</td>\n",
       "      <td>Mute or pause function</td>\n",
       "      <td>Functional Description When playing online rad...</td>\n",
       "    </tr>\n",
       "    <tr>\n",
       "      <th>3</th>\n",
       "      <td>11467</td>\n",
       "      <td>Users can remotely control the DK deletion thr...</td>\n",
       "      <td>Enabling conditions (a &amp; b): There is at least...</td>\n",
       "    </tr>\n",
       "    <tr>\n",
       "      <th>4</th>\n",
       "      <td>26161</td>\n",
       "      <td>Automatic search</td>\n",
       "      <td>Functional Description Support for searching f...</td>\n",
       "    </tr>\n",
       "  </tbody>\n",
       "</table>\n",
       "</div>"
      ],
      "text/plain": [
       "  Number                                               Name  \\\n",
       "0  26771                            Turn on and off hotspot   \n",
       "1   8692                              Manual dialing E-CALL   \n",
       "2  25957                             Mute or pause function   \n",
       "3  11467  Users can remotely control the DK deletion thr...   \n",
       "4  26161                                   Automatic search   \n",
       "\n",
       "                                                Text  \n",
       "0  Functional Description Users can choose to tur...  \n",
       "1  Functional Description The user presses the SO...  \n",
       "2  Functional Description When playing online rad...  \n",
       "3  Enabling conditions (a & b): There is at least...  \n",
       "4  Functional Description Support for searching f...  "
      ]
     },
     "execution_count": 11,
     "metadata": {},
     "output_type": "execute_result"
    }
   ],
   "source": [
    "# преобразование в DataFrame\n",
    "ssts_df = pd.DataFrame(ssts_text, columns=[\"Number\", \"Name\", \"Text\"])\n",
    "ssts_df.head()"
   ]
  },
  {
   "cell_type": "code",
   "execution_count": 12,
   "metadata": {},
   "outputs": [],
   "source": [
    "# удаление не релевантного текста\n",
    "ssts_df[\"Text\"] = ssts_df[\"Text\"].apply(lambda x: \" \".join(x.split()[2:]) if \"Functional Description\" in x else x)"
   ]
  },
  {
   "cell_type": "code",
   "execution_count": 13,
   "metadata": {},
   "outputs": [
    {
     "data": {
      "text/html": [
       "<div>\n",
       "<style scoped>\n",
       "    .dataframe tbody tr th:only-of-type {\n",
       "        vertical-align: middle;\n",
       "    }\n",
       "\n",
       "    .dataframe tbody tr th {\n",
       "        vertical-align: top;\n",
       "    }\n",
       "\n",
       "    .dataframe thead th {\n",
       "        text-align: right;\n",
       "    }\n",
       "</style>\n",
       "<table border=\"1\" class=\"dataframe\">\n",
       "  <thead>\n",
       "    <tr style=\"text-align: right;\">\n",
       "      <th></th>\n",
       "      <th>Number</th>\n",
       "      <th>Name_uc</th>\n",
       "      <th>Text_uc</th>\n",
       "      <th>Name_ssts</th>\n",
       "      <th>Text_ssts</th>\n",
       "    </tr>\n",
       "  </thead>\n",
       "  <tbody>\n",
       "    <tr>\n",
       "      <th>0</th>\n",
       "      <td>31523</td>\n",
       "      <td>Adding Internet Radio to Favorites List</td>\n",
       "      <td>Use Case: Adding Internet Radio to Favorites L...</td>\n",
       "      <td>Favorite Song operation</td>\n",
       "      <td>Users can set local music as favorites and vie...</td>\n",
       "    </tr>\n",
       "    <tr>\n",
       "      <th>1</th>\n",
       "      <td>8800</td>\n",
       "      <td>Receiving Call Notifications</td>\n",
       "      <td>Preconditions Entertainment system is ready. i...</td>\n",
       "      <td>Receiving Call Notifications</td>\n",
       "      <td>When a mobile phone calls, SWP pops up a Bluet...</td>\n",
       "    </tr>\n",
       "    <tr>\n",
       "      <th>2</th>\n",
       "      <td>11467</td>\n",
       "      <td>Revoke access to the vehicle from a driver or ...</td>\n",
       "      <td>Goal: Enable the Owner to quickly revoke acces...</td>\n",
       "      <td>Users can remotely control the DK deletion thr...</td>\n",
       "      <td>Enabling conditions (a &amp; b): There is at least...</td>\n",
       "    </tr>\n",
       "    <tr>\n",
       "      <th>3</th>\n",
       "      <td>28561</td>\n",
       "      <td>Setting Hotspot name &amp; password</td>\n",
       "      <td>Use-Case Title: \"Setting Hotspot name &amp; passwo...</td>\n",
       "      <td>hotspot settings</td>\n",
       "      <td>Users can modify the name and password of the ...</td>\n",
       "    </tr>\n",
       "    <tr>\n",
       "      <th>4</th>\n",
       "      <td>30371</td>\n",
       "      <td>ERA Self-diagnosis</td>\n",
       "      <td>ERA-Glonass system Description: ERA self-diagn...</td>\n",
       "      <td>ERA Self-diagnosis</td>\n",
       "      <td>Self-diagnosis after ERA is started (in ERA st...</td>\n",
       "    </tr>\n",
       "  </tbody>\n",
       "</table>\n",
       "</div>"
      ],
      "text/plain": [
       "  Number                                            Name_uc  \\\n",
       "0  31523            Adding Internet Radio to Favorites List   \n",
       "1   8800                       Receiving Call Notifications   \n",
       "2  11467  Revoke access to the vehicle from a driver or ...   \n",
       "3  28561                    Setting Hotspot name & password   \n",
       "4  30371                                 ERA Self-diagnosis   \n",
       "\n",
       "                                             Text_uc  \\\n",
       "0  Use Case: Adding Internet Radio to Favorites L...   \n",
       "1  Preconditions Entertainment system is ready. i...   \n",
       "2  Goal: Enable the Owner to quickly revoke acces...   \n",
       "3  Use-Case Title: \"Setting Hotspot name & passwo...   \n",
       "4  ERA-Glonass system Description: ERA self-diagn...   \n",
       "\n",
       "                                           Name_ssts  \\\n",
       "0                            Favorite Song operation   \n",
       "1                       Receiving Call Notifications   \n",
       "2  Users can remotely control the DK deletion thr...   \n",
       "3                                   hotspot settings   \n",
       "4                                 ERA Self-diagnosis   \n",
       "\n",
       "                                           Text_ssts  \n",
       "0  Users can set local music as favorites and vie...  \n",
       "1  When a mobile phone calls, SWP pops up a Bluet...  \n",
       "2  Enabling conditions (a & b): There is at least...  \n",
       "3  Users can modify the name and password of the ...  \n",
       "4  Self-diagnosis after ERA is started (in ERA st...  "
      ]
     },
     "execution_count": 13,
     "metadata": {},
     "output_type": "execute_result"
    }
   ],
   "source": [
    "# объединение данных в файл\n",
    "train_df = hmi_df.merge(ssts_df, on=\"Number\", how=\"left\", suffixes=[\"_uc\", \"_ssts\"])\n",
    "train_df.head()"
   ]
  },
  {
   "cell_type": "code",
   "execution_count": 14,
   "metadata": {},
   "outputs": [
    {
     "data": {
      "text/plain": [
       "(12, 5)"
      ]
     },
     "execution_count": 14,
     "metadata": {},
     "output_type": "execute_result"
    }
   ],
   "source": [
    "# размерность данных\n",
    "train_df.shape"
   ]
  },
  {
   "cell_type": "code",
   "execution_count": 15,
   "metadata": {},
   "outputs": [
    {
     "data": {
      "text/plain": [
       "Number       0\n",
       "Name_uc      0\n",
       "Text_uc      0\n",
       "Name_ssts    1\n",
       "Text_ssts    1\n",
       "dtype: int64"
      ]
     },
     "execution_count": 15,
     "metadata": {},
     "output_type": "execute_result"
    }
   ],
   "source": [
    "# наличие пропусков\n",
    "train_df.isna().sum()"
   ]
  },
  {
   "cell_type": "code",
   "execution_count": 16,
   "metadata": {},
   "outputs": [],
   "source": [
    "# заполнение пропусков\n",
    "train_df = train_df.fillna(\"-\")"
   ]
  },
  {
   "cell_type": "code",
   "execution_count": 17,
   "metadata": {},
   "outputs": [],
   "source": [
    "# запись в файл\n",
    "train_df.to_csv(\"data/train_df.csv\", index=False)"
   ]
  },
  {
   "cell_type": "code",
   "execution_count": 18,
   "metadata": {},
   "outputs": [
    {
     "data": {
      "image/png": "[encoded data removed]",
      "text/plain": [
       "<Figure size 500x100 with 1 Axes>"
      ]
     },
     "metadata": {},
     "output_type": "display_data"
    }
   ],
   "source": [
    "# задание палитры цветов\n",
    "colors = [\"#09214a\", \"#567189\", \"#7B8FA1\", \"#CFB997\", \"#FAD6A5\"]\n",
    "sns.palplot(sns.color_palette(colors))"
   ]
  },
  {
   "cell_type": "code",
   "execution_count": 19,
   "metadata": {},
   "outputs": [
    {
     "data": {
      "text/html": [
       "<div>\n",
       "<style scoped>\n",
       "    .dataframe tbody tr th:only-of-type {\n",
       "        vertical-align: middle;\n",
       "    }\n",
       "\n",
       "    .dataframe tbody tr th {\n",
       "        vertical-align: top;\n",
       "    }\n",
       "\n",
       "    .dataframe thead th {\n",
       "        text-align: right;\n",
       "    }\n",
       "</style>\n",
       "<table border=\"1\" class=\"dataframe\">\n",
       "  <thead>\n",
       "    <tr style=\"text-align: right;\">\n",
       "      <th></th>\n",
       "      <th>Number</th>\n",
       "      <th>Name</th>\n",
       "      <th>Differences</th>\n",
       "      <th>Description</th>\n",
       "      <th>Complience Level</th>\n",
       "    </tr>\n",
       "  </thead>\n",
       "  <tbody>\n",
       "    <tr>\n",
       "      <th>0</th>\n",
       "      <td>8800</td>\n",
       "      <td>Receiving Call Notifications</td>\n",
       "      <td>SSTS misses the following content:\\n The outpu...</td>\n",
       "      <td>HMX description:\\nThe driver can accept or rej...</td>\n",
       "      <td>LC</td>\n",
       "    </tr>\n",
       "    <tr>\n",
       "      <th>1</th>\n",
       "      <td>31523</td>\n",
       "      <td>Adding Internet Radio to Favorites List</td>\n",
       "      <td>UC misses the following content:\\nUsers can se...</td>\n",
       "      <td>Users can add or remove songs from favorites a...</td>\n",
       "      <td>LC</td>\n",
       "    </tr>\n",
       "    <tr>\n",
       "      <th>2</th>\n",
       "      <td>25957</td>\n",
       "      <td>Mute/unmute the FM Radio playback</td>\n",
       "      <td>There is no soft button icon and description i...</td>\n",
       "      <td>The user clicks on the radio and clicks on the...</td>\n",
       "      <td>PC</td>\n",
       "    </tr>\n",
       "    <tr>\n",
       "      <th>3</th>\n",
       "      <td>26160</td>\n",
       "      <td>Filtering the internet radio stations</td>\n",
       "      <td>ssts hasn't info about this</td>\n",
       "      <td>-</td>\n",
       "      <td>NA</td>\n",
       "    </tr>\n",
       "    <tr>\n",
       "      <th>4</th>\n",
       "      <td>11467</td>\n",
       "      <td>Revoke access to the vehicle from a driver or ...</td>\n",
       "      <td>-</td>\n",
       "      <td>The driver opens the ATOM application on his i...</td>\n",
       "      <td>FC</td>\n",
       "    </tr>\n",
       "  </tbody>\n",
       "</table>\n",
       "</div>"
      ],
      "text/plain": [
       "   Number                                               Name  \\\n",
       "0    8800                       Receiving Call Notifications   \n",
       "1   31523            Adding Internet Radio to Favorites List   \n",
       "2   25957                  Mute/unmute the FM Radio playback   \n",
       "3   26160              Filtering the internet radio stations   \n",
       "4   11467  Revoke access to the vehicle from a driver or ...   \n",
       "\n",
       "                                         Differences  \\\n",
       "0  SSTS misses the following content:\\n The outpu...   \n",
       "1  UC misses the following content:\\nUsers can se...   \n",
       "2  There is no soft button icon and description i...   \n",
       "3                        ssts hasn't info about this   \n",
       "4                                                  -   \n",
       "\n",
       "                                         Description Complience Level  \n",
       "0  HMX description:\\nThe driver can accept or rej...               LC  \n",
       "1  Users can add or remove songs from favorites a...               LC  \n",
       "2  The user clicks on the radio and clicks on the...               PC  \n",
       "3                                                  -               NA  \n",
       "4  The driver opens the ATOM application on his i...               FC  "
      ]
     },
     "execution_count": 19,
     "metadata": {},
     "output_type": "execute_result"
    }
   ],
   "source": [
    "# загрузка файла с отчетом\n",
    "gt = pd.read_excel('data/train_data/train_data_markup.xlsx', keep_default_na=False)\n",
    "gt.head()"
   ]
  },
  {
   "cell_type": "code",
   "execution_count": 20,
   "metadata": {},
   "outputs": [
    {
     "data": {
      "text/plain": [
       "Number              0\n",
       "Name                0\n",
       "Differences         0\n",
       "Description         0\n",
       "Complience Level    0\n",
       "dtype: int64"
      ]
     },
     "execution_count": 20,
     "metadata": {},
     "output_type": "execute_result"
    }
   ],
   "source": [
    "# проверка на пропуски\n",
    "gt.isna().sum()"
   ]
  },
  {
   "cell_type": "code",
   "execution_count": 21,
   "metadata": {},
   "outputs": [
    {
     "data": {
      "text/plain": [
       "Complience Level\n",
       "FC    1\n",
       "LC    7\n",
       "PC    1\n",
       "NC    2\n",
       "NA    1\n",
       "Name: count, dtype: int64"
      ]
     },
     "execution_count": 21,
     "metadata": {},
     "output_type": "execute_result"
    }
   ],
   "source": [
    "# подсчет количества оценок\n",
    "cl_count = gt[\"Complience Level\"].value_counts()\n",
    "cl_count = cl_count[[\"FC\", \"LC\", \"PC\", \"NC\", \"NA\"]]\n",
    "cl_count"
   ]
  },
  {
   "cell_type": "code",
   "execution_count": 23,
   "metadata": {},
   "outputs": [
    {
     "data": {
      "image/png": "[encoded data removed]",
      "text/plain": [
       "<Figure size 640x480 with 1 Axes>"
      ]
     },
     "metadata": {},
     "output_type": "display_data"
    }
   ],
   "source": [
    "# визуализация соотношения оценок\n",
    "def func(pct, allvals):\n",
    "    absolute = float(pct/100.*np.sum(allvals))\n",
    "    return \"{:.1f}% ({:.2f})\".format(pct, absolute)\n",
    "\n",
    "plt.pie(cl_count , colors=colors, \\\n",
    "        autopct=lambda pct: func(pct, cl_count), radius=2, startangle = 270, explode = [0.1, 0, 0.1, 0.1, 0.05])\n",
    "plt.title(\"RFI/RFP result\", size = 20, pad=100)\n",
    "plt.legend(labels=cl_count.index, title =\"Complience Level\", loc=\"upper right\", bbox_to_anchor =(1.5, 0, 0.5, 1))\n",
    "plt.show()"
   ]
  }
 ],
 "metadata": {
  "kernelspec": {
   "display_name": "venv",
   "language": "python",
   "name": "python3"
  },
  "language_info": {
   "codemirror_mode": {
    "name": "ipython",
    "version": 3
   },
   "file_extension": ".py",
   "mimetype": "text/x-python",
   "name": "python",
   "nbconvert_exporter": "python",
   "pygments_lexer": "ipython3",
   "version": "3.10.12"
  }
 },
 "nbformat": 4,
 "nbformat_minor": 2
}
