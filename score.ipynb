{
 "cells": [
  {
   "cell_type": "markdown",
   "metadata": {
    "id": "NkNV6OBmPy4c"
   },
   "source": [
    "#Загрузка gt и создание sub"
   ]
  },
  {
   "cell_type": "markdown",
   "metadata": {
    "id": "mFhEZydwOnkX"
   },
   "source": [
    "  sub - submission файл\n",
    "  \n",
    "  gt - grounded true файл"
   ]
  },
  {
   "cell_type": "code",
   "execution_count": 1,
   "metadata": {},
   "outputs": [],
   "source": [
    "import pandas as pd"
   ]
  },
  {
   "cell_type": "code",
   "execution_count": 2,
   "metadata": {
    "id": "40OlFdkjGUMA"
   },
   "outputs": [],
   "source": [
    "gt = pd.read_excel('data/train_data/train_data_markup.xlsx', keep_default_na=False)"
   ]
  },
  {
   "cell_type": "code",
   "execution_count": 3,
   "metadata": {
    "colab": {
     "base_uri": "https://localhost:8080/",
     "height": 206
    },
    "id": "gaGG3OERJWuU",
    "outputId": "b1009fcc-9ab4-4ba8-d4aa-b62008ecb815"
   },
   "outputs": [
    {
     "data": {
      "text/html": [
       "<div>\n",
       "<style scoped>\n",
       "    .dataframe tbody tr th:only-of-type {\n",
       "        vertical-align: middle;\n",
       "    }\n",
       "\n",
       "    .dataframe tbody tr th {\n",
       "        vertical-align: top;\n",
       "    }\n",
       "\n",
       "    .dataframe thead th {\n",
       "        text-align: right;\n",
       "    }\n",
       "</style>\n",
       "<table border=\"1\" class=\"dataframe\">\n",
       "  <thead>\n",
       "    <tr style=\"text-align: right;\">\n",
       "      <th></th>\n",
       "      <th>Number</th>\n",
       "      <th>Name</th>\n",
       "      <th>Differences</th>\n",
       "      <th>Description</th>\n",
       "      <th>Complience Level</th>\n",
       "    </tr>\n",
       "  </thead>\n",
       "  <tbody>\n",
       "    <tr>\n",
       "      <th>0</th>\n",
       "      <td>8800</td>\n",
       "      <td>Receiving Call Notifications</td>\n",
       "      <td>SSTS misses the following content:\\n The outpu...</td>\n",
       "      <td>HMX description:\\nThe driver can accept or rej...</td>\n",
       "      <td>LC</td>\n",
       "    </tr>\n",
       "    <tr>\n",
       "      <th>1</th>\n",
       "      <td>31523</td>\n",
       "      <td>Adding Internet Radio to Favorites List</td>\n",
       "      <td>UC misses the following content:\\nUsers can se...</td>\n",
       "      <td>Users can add or remove songs from favorites a...</td>\n",
       "      <td>LC</td>\n",
       "    </tr>\n",
       "    <tr>\n",
       "      <th>2</th>\n",
       "      <td>25957</td>\n",
       "      <td>Mute/unmute the FM Radio playback</td>\n",
       "      <td>There is no soft button icon and description i...</td>\n",
       "      <td>The user clicks on the radio and clicks on the...</td>\n",
       "      <td>PC</td>\n",
       "    </tr>\n",
       "    <tr>\n",
       "      <th>3</th>\n",
       "      <td>26160</td>\n",
       "      <td>Filtering the internet radio stations</td>\n",
       "      <td>ssts hasn't info about this</td>\n",
       "      <td>-</td>\n",
       "      <td>NA</td>\n",
       "    </tr>\n",
       "    <tr>\n",
       "      <th>4</th>\n",
       "      <td>11467</td>\n",
       "      <td>Revoke access to the vehicle from a driver or ...</td>\n",
       "      <td>-</td>\n",
       "      <td>The driver opens the ATOM application on his i...</td>\n",
       "      <td>FC</td>\n",
       "    </tr>\n",
       "  </tbody>\n",
       "</table>\n",
       "</div>"
      ],
      "text/plain": [
       "   Number                                               Name  \\\n",
       "0    8800                       Receiving Call Notifications   \n",
       "1   31523            Adding Internet Radio to Favorites List   \n",
       "2   25957                  Mute/unmute the FM Radio playback   \n",
       "3   26160              Filtering the internet radio stations   \n",
       "4   11467  Revoke access to the vehicle from a driver or ...   \n",
       "\n",
       "                                         Differences  \\\n",
       "0  SSTS misses the following content:\\n The outpu...   \n",
       "1  UC misses the following content:\\nUsers can se...   \n",
       "2  There is no soft button icon and description i...   \n",
       "3                        ssts hasn't info about this   \n",
       "4                                                  -   \n",
       "\n",
       "                                         Description Complience Level  \n",
       "0  HMX description:\\nThe driver can accept or rej...               LC  \n",
       "1  Users can add or remove songs from favorites a...               LC  \n",
       "2  The user clicks on the radio and clicks on the...               PC  \n",
       "3                                                  -               NA  \n",
       "4  The driver opens the ATOM application on his i...               FC  "
      ]
     },
     "execution_count": 3,
     "metadata": {},
     "output_type": "execute_result"
    }
   ],
   "source": [
    "gt.head(5)"
   ]
  },
  {
   "cell_type": "code",
   "execution_count": 4,
   "metadata": {
    "colab": {
     "base_uri": "https://localhost:8080/"
    },
    "id": "VJ5Rv_cFLFGw",
    "outputId": "10599936-c530-497e-8c6e-db580949697b"
   },
   "outputs": [
    {
     "data": {
      "text/plain": [
       "array(['LC', 'PC', 'NA', 'FC', 'NC'], dtype=object)"
      ]
     },
     "execution_count": 4,
     "metadata": {},
     "output_type": "execute_result"
    }
   ],
   "source": [
    "gt['Complience Level'].unique()"
   ]
  },
  {
   "cell_type": "code",
   "execution_count": 5,
   "metadata": {
    "id": "aAG50lGeQ5Ty"
   },
   "outputs": [],
   "source": [
    "gt.to_csv('data/grounded_true.csv', index = False)"
   ]
  },
  {
   "cell_type": "code",
   "execution_count": 6,
   "metadata": {
    "id": "r6yl-6axlitX"
   },
   "outputs": [],
   "source": [
    "import numpy as np\n",
    "\n",
    "#Симуляция реального сабмита\n",
    "def simul_sub(df, columns_to_swap_modify):\n",
    "    len_base_df = len(df)\n",
    "\n",
    "    # Процент строк для удаления и дублирования\n",
    "    fraction_to_remove = 0.1\n",
    "    fraction_to_duplicate = 0.1\n",
    "\n",
    "    num_to_remove = int(len_base_df * fraction_to_remove)\n",
    "    num_to_duplicate = int(len_base_df * fraction_to_duplicate)\n",
    "\n",
    "    # Удаление случайных строк\n",
    "    rows_to_remove = df.sample(num_to_remove).index\n",
    "    data_dropped = df.drop(rows_to_remove)\n",
    "\n",
    "    # Дублирование случайных строк\n",
    "    rows_to_duplicate = data_dropped.sample(num_to_duplicate)\n",
    "    data_final = pd.concat([data_dropped, rows_to_duplicate])\n",
    "    data_final = data_final.reset_index(drop=True)\n",
    "\n",
    "    # Замена значений с вероятностью swap_chance\n",
    "    swap_chance=0.4\n",
    "\n",
    "    for idx in data_final.index:\n",
    "        for column in columns_to_swap_modify:\n",
    "            if np.random.rand() < swap_chance:\n",
    "                # Выбираем случайное значение из того же столбца\n",
    "                random_row = data_final.sample(1).iloc[0]\n",
    "                data_final.at[idx, column] = random_row[column]\n",
    "\n",
    "    return data_final"
   ]
  },
  {
   "cell_type": "code",
   "execution_count": 7,
   "metadata": {
    "id": "mTDDtJJkM-zK"
   },
   "outputs": [],
   "source": [
    "#Симуляция реального сабмита\n",
    "sub = simul_sub(gt.copy(), ['Complience Level'])\n",
    "\n",
    "#Или с помощью моды\n",
    "#sub = gt.copy()\n",
    "#sub['Complience Level'] = gt['Complience Level'].mode()[0]"
   ]
  },
  {
   "cell_type": "code",
   "execution_count": 8,
   "metadata": {
    "id": "LRd8OyOLQ_9R"
   },
   "outputs": [],
   "source": [
    "sub.to_csv('data/submission.csv', index = False)"
   ]
  },
  {
   "cell_type": "code",
   "execution_count": 9,
   "metadata": {
    "colab": {
     "base_uri": "https://localhost:8080/",
     "height": 206
    },
    "id": "4pFl9eKbR-u4",
    "outputId": "129b8d4b-6387-4d1f-a996-dfd50037c771"
   },
   "outputs": [
    {
     "data": {
      "text/html": [
       "<div>\n",
       "<style scoped>\n",
       "    .dataframe tbody tr th:only-of-type {\n",
       "        vertical-align: middle;\n",
       "    }\n",
       "\n",
       "    .dataframe tbody tr th {\n",
       "        vertical-align: top;\n",
       "    }\n",
       "\n",
       "    .dataframe thead th {\n",
       "        text-align: right;\n",
       "    }\n",
       "</style>\n",
       "<table border=\"1\" class=\"dataframe\">\n",
       "  <thead>\n",
       "    <tr style=\"text-align: right;\">\n",
       "      <th></th>\n",
       "      <th>Number</th>\n",
       "      <th>Name</th>\n",
       "      <th>Differences</th>\n",
       "      <th>Description</th>\n",
       "      <th>Complience Level</th>\n",
       "    </tr>\n",
       "  </thead>\n",
       "  <tbody>\n",
       "    <tr>\n",
       "      <th>0</th>\n",
       "      <td>8800</td>\n",
       "      <td>Receiving Call Notifications</td>\n",
       "      <td>SSTS misses the following content:\\n The outpu...</td>\n",
       "      <td>HMX description:\\nThe driver can accept or rej...</td>\n",
       "      <td>LC</td>\n",
       "    </tr>\n",
       "    <tr>\n",
       "      <th>1</th>\n",
       "      <td>31523</td>\n",
       "      <td>Adding Internet Radio to Favorites List</td>\n",
       "      <td>UC misses the following content:\\nUsers can se...</td>\n",
       "      <td>Users can add or remove songs from favorites a...</td>\n",
       "      <td>LC</td>\n",
       "    </tr>\n",
       "    <tr>\n",
       "      <th>2</th>\n",
       "      <td>25957</td>\n",
       "      <td>Mute/unmute the FM Radio playback</td>\n",
       "      <td>There is no soft button icon and description i...</td>\n",
       "      <td>The user clicks on the radio and clicks on the...</td>\n",
       "      <td>PC</td>\n",
       "    </tr>\n",
       "    <tr>\n",
       "      <th>3</th>\n",
       "      <td>26160</td>\n",
       "      <td>Filtering the internet radio stations</td>\n",
       "      <td>ssts hasn't info about this</td>\n",
       "      <td>-</td>\n",
       "      <td>NA</td>\n",
       "    </tr>\n",
       "    <tr>\n",
       "      <th>4</th>\n",
       "      <td>11467</td>\n",
       "      <td>Revoke access to the vehicle from a driver or ...</td>\n",
       "      <td>-</td>\n",
       "      <td>The driver opens the ATOM application on his i...</td>\n",
       "      <td>FC</td>\n",
       "    </tr>\n",
       "  </tbody>\n",
       "</table>\n",
       "</div>"
      ],
      "text/plain": [
       "   Number                                               Name  \\\n",
       "0    8800                       Receiving Call Notifications   \n",
       "1   31523            Adding Internet Radio to Favorites List   \n",
       "2   25957                  Mute/unmute the FM Radio playback   \n",
       "3   26160              Filtering the internet radio stations   \n",
       "4   11467  Revoke access to the vehicle from a driver or ...   \n",
       "\n",
       "                                         Differences  \\\n",
       "0  SSTS misses the following content:\\n The outpu...   \n",
       "1  UC misses the following content:\\nUsers can se...   \n",
       "2  There is no soft button icon and description i...   \n",
       "3                        ssts hasn't info about this   \n",
       "4                                                  -   \n",
       "\n",
       "                                         Description Complience Level  \n",
       "0  HMX description:\\nThe driver can accept or rej...               LC  \n",
       "1  Users can add or remove songs from favorites a...               LC  \n",
       "2  The user clicks on the radio and clicks on the...               PC  \n",
       "3                                                  -               NA  \n",
       "4  The driver opens the ATOM application on his i...               FC  "
      ]
     },
     "execution_count": 9,
     "metadata": {},
     "output_type": "execute_result"
    }
   ],
   "source": [
    "sub.head(5)"
   ]
  },
  {
   "cell_type": "markdown",
   "metadata": {
    "id": "BF_7KOCsPwal"
   },
   "source": [
    "#Метрика"
   ]
  },
  {
   "cell_type": "markdown",
   "metadata": {
    "id": "E019s_cJP7m0"
   },
   "source": [
    "score = max(1.5 - mse (по числовому варианту столбца 'Complience Level'), 0)/1.5\n"
   ]
  },
  {
   "cell_type": "code",
   "execution_count": 10,
   "metadata": {
    "id": "-QYjdXkgIzzV"
   },
   "outputs": [],
   "source": [
    "from sklearn.metrics import mean_squared_error\n",
    "def calc_score(gt, sub):\n",
    "  sub = sub.drop_duplicates(subset='Number', keep='last')\n",
    "\n",
    "  mapping = {'FC': 1, 'LC': 2, 'PC': 3, 'NC': 4, 'NA': 5}\n",
    "  gt['категории_числа'] = gt['Complience Level'].map(mapping)\n",
    "  sub['категории_числа'] = sub['Complience Level'].map(mapping)\n",
    "\n",
    "\n",
    "  merge_df = pd.merge(gt, sub, on='Number', how='left')\n",
    "  merge_df['категории_числа_y'] = merge_df['категории_числа_y'].fillna(mapping['NA'])\n",
    "  mse = mean_squared_error(merge_df['категории_числа_x'], merge_df['категории_числа_y'])\n",
    "\n",
    "  score = max(0, 1.5-mse)/1.5\n",
    "\n",
    "  return score"
   ]
  },
  {
   "cell_type": "code",
   "execution_count": 11,
   "metadata": {
    "colab": {
     "base_uri": "https://localhost:8080/"
    },
    "id": "qC1ouPeUM5dD",
    "outputId": "89f6ab29-bbc2-4396-c004-ed0c57a5535c"
   },
   "outputs": [
    {
     "name": "stderr",
     "output_type": "stream",
     "text": [
      "/tmp/ipykernel_26109/2736361996.py:7: SettingWithCopyWarning: \n",
      "A value is trying to be set on a copy of a slice from a DataFrame.\n",
      "Try using .loc[row_indexer,col_indexer] = value instead\n",
      "\n",
      "See the caveats in the documentation: https://pandas.pydata.org/pandas-docs/stable/user_guide/indexing.html#returning-a-view-versus-a-copy\n",
      "  sub['категории_числа'] = sub['Complience Level'].map(mapping)\n"
     ]
    }
   ],
   "source": [
    "score = calc_score(gt.copy(), sub.copy())"
   ]
  },
  {
   "cell_type": "code",
   "execution_count": 12,
   "metadata": {
    "colab": {
     "base_uri": "https://localhost:8080/"
    },
    "id": "LiWM4WRmrOMo",
    "outputId": "2c077248-a4e2-411d-dc3e-c39fc0094e22"
   },
   "outputs": [
    {
     "data": {
      "text/plain": [
       "np.float64(0.4444444444444444)"
      ]
     },
     "execution_count": 12,
     "metadata": {},
     "output_type": "execute_result"
    }
   ],
   "source": [
    "score"
   ]
  }
 ],
 "metadata": {
  "colab": {
   "provenance": []
  },
  "kernelspec": {
   "display_name": "venv",
   "language": "python",
   "name": "python3"
  },
  "language_info": {
   "codemirror_mode": {
    "name": "ipython",
    "version": 3
   },
   "file_extension": ".py",
   "mimetype": "text/x-python",
   "name": "python",
   "nbconvert_exporter": "python",
   "pygments_lexer": "ipython3",
   "version": "3.10.12"
  }
 },
 "nbformat": 4,
 "nbformat_minor": 0
}
