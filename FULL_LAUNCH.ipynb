{
 "cells": [
  {
   "cell_type": "code",
   "execution_count": 1,
   "metadata": {},
   "outputs": [
    {
     "name": "stderr",
     "output_type": "stream",
     "text": [
      "/home/ruslan/atom/venv/lib/python3.10/site-packages/tqdm/auto.py:21: TqdmWarning: IProgress not found. Please update jupyter and ipywidgets. See https://ipywidgets.readthedocs.io/en/stable/user_install.html\n",
      "  from .autonotebook import tqdm as notebook_tqdm\n"
     ]
    }
   ],
   "source": [
    "# импорт необходимых библиотек\n",
    "import os\n",
    "import re\n",
    "import time\n",
    "import pandas as pd\n",
    "import numpy as np\n",
    "from typing import List\n",
    "from docx import Document\n",
    "from transformers import BartTokenizer, BartForConditionalGeneration\n",
    "from sentence_transformers import SentenceTransformer, util\n",
    "import matplotlib.pyplot as plt\n",
    "import seaborn as sns\n",
    "\n",
    "%matplotlib inline"
   ]
  },
  {
   "cell_type": "code",
   "execution_count": 2,
   "metadata": {},
   "outputs": [],
   "source": [
    "def walk_path_files(directory: str) -> List[List[str]]:\n",
    "    \"\"\"функция получение patch файлов по контексту\n",
    "\n",
    "    Args:\n",
    "        directoty (str): путь к директории с файлами\n",
    "\n",
    "    Returns:\n",
    "        List[List[str]]: списки файлов HMI и SSTS\n",
    "    \"\"\"\n",
    "    # списки файлов HMI и SSTS\n",
    "    hmi_files = []\n",
    "    ssts_files = []\n",
    "\n",
    "    # получение patch файлов по контексту\n",
    "    for root, dirs, files in os.walk(directory, topdown = False):\n",
    "        for name in files:\n",
    "            # файлы директории HMI\n",
    "            if \"HMI\" in root:\n",
    "                hmi_files.append(os.path.join(root, name))\n",
    "            # файлы директории SSTS\n",
    "            if \"SSTS\" in root:\n",
    "                ssts_files.append(os.path.join(root, name))\n",
    "\n",
    "    return [hmi_files, ssts_files]"
   ]
  },
  {
   "cell_type": "code",
   "execution_count": 3,
   "metadata": {},
   "outputs": [],
   "source": [
    "def open_docx_file(pacth: str, file_folder: str)-> List[str]:\n",
    "    \"\"\"функция извлечения текста из файлов с расширением .docx\n",
    "\n",
    "    Args:\n",
    "        pacth (str): путь к файлу\n",
    "\n",
    "    Returns:\n",
    "        List[str]: [наименование функции, текс файла]\n",
    "    \"\"\"\n",
    "\n",
    "    document = Document(pacth)\n",
    "    paragraphs = [p.text.strip().replace(\"\\xa0\", \" \") for p in document.paragraphs if len(p.text) != 0]\n",
    "\n",
    "    if file_folder == \"HMI\":\n",
    "        return [paragraphs[0].split(\"]\")[-1].strip(), \" \".join(paragraphs[1:])]\n",
    "    if file_folder == \"SSTS\":\n",
    "        return [paragraphs[0].strip(), \" \".join(paragraphs[1:])]"
   ]
  },
  {
   "cell_type": "code",
   "execution_count": 4,
   "metadata": {},
   "outputs": [],
   "source": [
    "def findall_numbers(text: str) -> int:\n",
    "    \"\"\"функция извлечения номера файла из patch файла\n",
    "\n",
    "    Args:\n",
    "        text (str): путь к файлу\n",
    "\n",
    "    Returns:\n",
    "        int: номер файла\n",
    "    \"\"\"\n",
    "    numbers = re.findall(r'\\b\\d+\\b', text)\n",
    "    return numbers[0]"
   ]
  },
  {
   "cell_type": "code",
   "execution_count": 5,
   "metadata": {},
   "outputs": [],
   "source": [
    "def file_processing(list_files: List[str], directory_name: str = \"HMI\") -> List[List[str]]:\n",
    "    \"\"\"функция извлечени ключевых призноков из файла\n",
    "\n",
    "    Args:\n",
    "        phmi_files: List[str]: список путей к файлам\n",
    "        directory_name: наименование директории с файлами\n",
    "\n",
    "    Returns:\n",
    "        List[Lst[str]]: признаки данных\n",
    "    \"\"\"\n",
    "\n",
    "    # обработка файлов \n",
    "    text_list = []\n",
    "    for file in list_files:\n",
    "        name, text = open_docx_file(file, directory_name)\n",
    "        number = findall_numbers(file)\n",
    "        # формирование признаков\n",
    "        text_list.append([number, name, text])\n",
    "\n",
    "    return  text_list"
   ]
  },
  {
   "cell_type": "code",
   "execution_count": 6,
   "metadata": {},
   "outputs": [],
   "source": [
    "def make_df(text: List[str]) -> pd.DataFrame:\n",
    "    \"\"\"функция преобразования текста в Data Frame\n",
    "\n",
    "    Args:\n",
    "        text (List[str]): признаки данных файлов\n",
    "\n",
    "    Returns:\n",
    "        pd.DataFrame: Data Frame с данными призноков по каждому файлу\n",
    "    \"\"\"\n",
    "\n",
    "    df = pd.DataFrame(text, columns=[\"Number\", \"Name\", \"Text\"])\n",
    "\n",
    "    return df"
   ]
  },
  {
   "cell_type": "code",
   "execution_count": 7,
   "metadata": {},
   "outputs": [],
   "source": [
    "def merge_df(hmi_df: pd.DataFrame, ssts_df: pd.DataFrame) -> pd.DataFrame:\n",
    "    \"\"\"функция объединения признаков данных\n",
    "\n",
    "    Args:\n",
    "        hmi_df (pd.DataFrame): Data Frame с данными призноков файлов HMI\n",
    "        ssts_df (pd.DataFrame): Data Frame с данными призноков файлов SSTS\n",
    "\n",
    "    Returns:\n",
    "        pd.DataFrame: признаки данных по документации\n",
    "    \"\"\"\n",
    "\n",
    "    df = hmi_df.merge(ssts_df, on=\"Number\", how=\"left\", suffixes=[\"_uc\", \"_ssts\"])\n",
    "    df = df.fillna(\"-\")\n",
    "\n",
    "    return df"
   ]
  },
  {
   "cell_type": "code",
   "execution_count": 8,
   "metadata": {},
   "outputs": [],
   "source": [
    "# Загрузка модели и токенизатора BART\n",
    "model = BartForConditionalGeneration.from_pretrained(\"./bart_model\")\n",
    "tokenizer = BartTokenizer.from_pretrained(\"./bart_model\")"
   ]
  },
  {
   "cell_type": "code",
   "execution_count": 9,
   "metadata": {},
   "outputs": [],
   "source": [
    "# загрузка берт с локального компа\n",
    "model_bert = SentenceTransformer('./roberta_model')"
   ]
  },
  {
   "cell_type": "code",
   "execution_count": 10,
   "metadata": {},
   "outputs": [],
   "source": [
    "def generate_difference(row):\n",
    "    text1 = row['Text_uc']\n",
    "    text2 = row['Text_ssts']\n",
    "\n",
    "    # Форматирование входных данных для модели BART\n",
    "    input_text = (\n",
    "        f\"Identify the different content, text1 and text2: \"\n",
    "        f\"First text: {text1} </s> Second text: {text2}\"\n",
    "    )\n",
    "\n",
    "    #input_text = f\"Find the differences in the second text compared to the first: {text2} </s> {text1}\"\n",
    "    # input_text = (\n",
    "    #     f\"Context the differences in characteristics and specifications between the first text and the second text. \"\n",
    "    #     f\"First text: {text1} </s> Second text: {text2}\"\n",
    "    # )\n",
    "    input_ids = tokenizer.encode(input_text, return_tensors=\"pt\")\n",
    "\n",
    "    # Проверка длины входных данных на размерность токена 1024\n",
    "    if input_ids.shape[1] > 1024:\n",
    "        input_ids = input_ids[:, :1024]\n",
    "\n",
    "    # Генерация описания расхождений\n",
    "    if text2 != '-':\n",
    "        try:\n",
    "            outputs = model.generate(\n",
    "                input_ids,\n",
    "                max_length=60,\n",
    "                num_beams=7,\n",
    "                early_stopping=True,\n",
    "                do_sample=True,\n",
    "                temperature=0.95,\n",
    "                top_k=50,\n",
    "                top_p=0.90\n",
    "            )\n",
    "            description = tokenizer.decode(outputs[0], skip_special_tokens=True)\n",
    "        except IndexError as e:\n",
    "            print(f\"Error during generation: {e}\")\n",
    "            return \"Ошибка генерации\"\n",
    "        description = ':'.join(description.split(':')[2:])\n",
    "    else:\n",
    "        description = '-'\n",
    "    return description"
   ]
  },
  {
   "cell_type": "code",
   "execution_count": 11,
   "metadata": {},
   "outputs": [],
   "source": [
    "def generate_description(row):\n",
    "\n",
    "\n",
    "    text1 = row['Text_uc']\n",
    "    text2 = row['Text_ssts']\n",
    "\n",
    "    # Форматирование входных данных для модели BART\n",
    "    input_text = (\n",
    "        f\"Discribe the differences in characteristics and specifications between the first text and the second text. \"\n",
    "        f\"First text: {text1} </s> Second text: {text2}\"\n",
    "    )\n",
    "    #input_text = f\"Find the differences in the first text compared to the second: {text1} </s> {text2}\"\n",
    "    #input_text = f\"Find the differences in the first text compared to the second that are not in the third: {text1} </s> {text2} </s> {text3}\"\n",
    "    input_ids = tokenizer.encode(input_text, return_tensors=\"pt\")\n",
    "\n",
    "    # Проверка длины входных данных на размерность токена 1024\n",
    "    if input_ids.shape[1] > 1024:\n",
    "        input_ids = input_ids[:, :1024]\n",
    "\n",
    "    # Генерация описания расхождений\n",
    "    try:\n",
    "        outputs = model.generate(\n",
    "            input_ids,\n",
    "            max_length=150,\n",
    "            num_beams=5,\n",
    "            early_stopping=True,\n",
    "            do_sample=True,\n",
    "            temperature=0.65,\n",
    "            top_k=50,\n",
    "            top_p=0.90\n",
    "        )\n",
    "        description = tokenizer.decode(outputs[0], skip_special_tokens=True)\n",
    "    except IndexError as e:\n",
    "        print(f\"Error during generation: {e}\")\n",
    "        return \"Ошибка генерации\"\n",
    "    description = ':'.join(description.split(':')[2:])\n",
    "    return description"
   ]
  },
  {
   "cell_type": "code",
   "execution_count": 12,
   "metadata": {},
   "outputs": [],
   "source": [
    "# Загрузка модели DistilBERT\n",
    "\n",
    "def preprocess_text(text):\n",
    "    if text == '-':  # Проверка на NaN\n",
    "        return \"-\"\n",
    "    text = text.lower()  # Приведение к нижнему регистру\n",
    "    text = re.sub(r'\\s+', ' ', text)  # Удаление лишних пробелов\n",
    "    text = re.sub(r'[^\\w\\s]', '', text)  # Удаление пунктуации\n",
    "    return text\n",
    "\n",
    "# Функция для вычисления косинусного сходства\n",
    "def compute_cosine_similarity(row):\n",
    "    text1 = preprocess_text(row['Text_uc'])\n",
    "    text2 = preprocess_text(row['Difference'])\n",
    "\n",
    "    # Проверка на наличие NaN значений\n",
    "    if text1 == '-' or text2 == '-':\n",
    "        return 0\n",
    "\n",
    "    # Получение векторных представлений для текстов\n",
    "    embeddings1 = model_bert.encode(text1)\n",
    "    embeddings2 = model_bert.encode(text2)\n",
    "\n",
    "    # Вычисление косинусного сходства\n",
    "    cosine_similarity = util.pytorch_cos_sim(embeddings1, embeddings2)\n",
    "\n",
    "    return cosine_similarity.item()"
   ]
  },
  {
   "cell_type": "code",
   "execution_count": 13,
   "metadata": {},
   "outputs": [],
   "source": [
    "def complience_level(value) -> str:\n",
    "    \"\"\"функция интерпритации соответствия\n",
    "\n",
    "    Args:\n",
    "        value (_type_): показатель соответствия\n",
    "\n",
    "    Returns:\n",
    "        str: метка класса\n",
    "    \"\"\"\n",
    "    if value > 0.83:\n",
    "        return 'FC'\n",
    "    elif value > 0.75 and value <= 0.83:\n",
    "        return 'LC'\n",
    "    elif 0.01 < value <= 0.75:\n",
    "        return 'NC'\n",
    "    else:\n",
    "        return 'NA'"
   ]
  },
  {
   "cell_type": "code",
   "execution_count": 14,
   "metadata": {},
   "outputs": [],
   "source": [
    "# путь к директории с файлами\n",
    "directory = \"data/val_data/\""
   ]
  },
  {
   "cell_type": "code",
   "execution_count": null,
   "metadata": {},
   "outputs": [],
   "source": [
    "# путь к директории с файлами\n",
    "# directory = \"data/test_data/\""
   ]
  },
  {
   "cell_type": "code",
   "execution_count": 15,
   "metadata": {},
   "outputs": [
    {
     "name": "stdout",
     "output_type": "stream",
     "text": [
      "Elapsed time:  67.144 second\n",
      "Number of files:  23\n",
      "Mean time per file:  2.919 second\n",
      "CPU times: user 14min 51s, sys: 1.41 s, total: 14min 53s\n",
      "Wall time: 1min 7s\n"
     ]
    },
    {
     "data": {
      "text/html": [
       "<div>\n",
       "<style scoped>\n",
       "    .dataframe tbody tr th:only-of-type {\n",
       "        vertical-align: middle;\n",
       "    }\n",
       "\n",
       "    .dataframe tbody tr th {\n",
       "        vertical-align: top;\n",
       "    }\n",
       "\n",
       "    .dataframe thead th {\n",
       "        text-align: right;\n",
       "    }\n",
       "</style>\n",
       "<table border=\"1\" class=\"dataframe\">\n",
       "  <thead>\n",
       "    <tr style=\"text-align: right;\">\n",
       "      <th></th>\n",
       "      <th>Number</th>\n",
       "      <th>Name</th>\n",
       "      <th>Difference</th>\n",
       "      <th>Description</th>\n",
       "      <th>Complience Level</th>\n",
       "    </tr>\n",
       "  </thead>\n",
       "  <tbody>\n",
       "    <tr>\n",
       "      <th>0</th>\n",
       "      <td>31523</td>\n",
       "      <td>Adding Internet Radio to Favorites List</td>\n",
       "      <td>Use Case: Adding Internet Radio to Favorites ...</td>\n",
       "      <td>Adding Internet Radio to Favorites List Goal:...</td>\n",
       "      <td>LC</td>\n",
       "    </tr>\n",
       "    <tr>\n",
       "      <th>1</th>\n",
       "      <td>8800</td>\n",
       "      <td>Receiving Call Notifications</td>\n",
       "      <td>Preconditions: The driver's smartphone is con...</td>\n",
       "      <td>An incoming call is received on the driver's ...</td>\n",
       "      <td>LC</td>\n",
       "    </tr>\n",
       "    <tr>\n",
       "      <th>2</th>\n",
       "      <td>11467</td>\n",
       "      <td>Revoke access to the vehicle from a driver or ...</td>\n",
       "      <td>Goal: Enable the Owner to quickly revoke acce...</td>\n",
       "      <td>Enable the Owner to quickly revoke access fro...</td>\n",
       "      <td>LC</td>\n",
       "    </tr>\n",
       "    <tr>\n",
       "      <th>3</th>\n",
       "      <td>28561</td>\n",
       "      <td>Setting Hotspot name &amp; password</td>\n",
       "      <td>Use-Case Title: \"Setting Hotspot name &amp; passw...</td>\n",
       "      <td>\"Setting Hotspot name &amp; password\" Goal: Users...</td>\n",
       "      <td>LC</td>\n",
       "    </tr>\n",
       "    <tr>\n",
       "      <th>4</th>\n",
       "      <td>30371</td>\n",
       "      <td>ERA Self-diagnosis</td>\n",
       "      <td>ERA-Glonass system Description: ERA self-diag...</td>\n",
       "      <td>ERA self-diagnosis whether the system has a f...</td>\n",
       "      <td>NC</td>\n",
       "    </tr>\n",
       "  </tbody>\n",
       "</table>\n",
       "</div>"
      ],
      "text/plain": [
       "  Number                                               Name  \\\n",
       "0  31523            Adding Internet Radio to Favorites List   \n",
       "1   8800                       Receiving Call Notifications   \n",
       "2  11467  Revoke access to the vehicle from a driver or ...   \n",
       "3  28561                    Setting Hotspot name & password   \n",
       "4  30371                                 ERA Self-diagnosis   \n",
       "\n",
       "                                          Difference  \\\n",
       "0   Use Case: Adding Internet Radio to Favorites ...   \n",
       "1   Preconditions: The driver's smartphone is con...   \n",
       "2   Goal: Enable the Owner to quickly revoke acce...   \n",
       "3   Use-Case Title: \"Setting Hotspot name & passw...   \n",
       "4   ERA-Glonass system Description: ERA self-diag...   \n",
       "\n",
       "                                         Description Complience Level  \n",
       "0   Adding Internet Radio to Favorites List Goal:...               LC  \n",
       "1   An incoming call is received on the driver's ...               LC  \n",
       "2   Enable the Owner to quickly revoke access fro...               LC  \n",
       "3   \"Setting Hotspot name & password\" Goal: Users...               LC  \n",
       "4   ERA self-diagnosis whether the system has a f...               NC  "
      ]
     },
     "execution_count": 15,
     "metadata": {},
     "output_type": "execute_result"
    }
   ],
   "source": [
    "%%time\n",
    "# обработка файлов с замеров суммарного времени\n",
    "\n",
    "# начальное время\n",
    "start_time = time.time()\n",
    "\n",
    "# начало обработки\n",
    "\n",
    "hmi_files, ssts_files = walk_path_files(directory)\n",
    "hmi_text = file_processing(hmi_files, \"HMI\")\n",
    "ssts_text = file_processing(ssts_files, \"SSTS\")\n",
    "hmi_df = make_df(hmi_text)\n",
    "# удаление не релевантного текста\n",
    "hmi_df[\"Text\"] = hmi_df[\"Text\"].apply(lambda x: \" \".join(x.split()[1:]) if \"Description\" in x else x)\n",
    "ssts_df = make_df(ssts_text)\n",
    "# удаление не релевантного текста\n",
    "ssts_df[\"Text\"] = ssts_df[\"Text\"].apply(lambda x: \" \".join(x.split()[2:]) if \"Functional Description\" in x else x)\n",
    "df = merge_df(hmi_df, ssts_df)\n",
    "# получения различий в контексте текстов 2 документов\n",
    "df['Difference'] = df.apply(generate_difference, axis=1)\n",
    "# Применение функции к каждой строке DataFrame\n",
    "df['Description'] = df.apply(generate_description, axis=1)\n",
    "# Применение функции к каждой строке DataFrame\n",
    "df['cosine_similarity'] = df.apply(compute_cosine_similarity, axis=1)\n",
    "# оценка соответствия\n",
    "df['len'] = df['Difference'].map(lambda x: len(x))\n",
    "df['len_worlds'] = df['Difference'].map(lambda x: len(x.split()))\n",
    "##############\n",
    "\n",
    "df['total_score'] = df.apply(lambda x: (x['len_worlds'] / x['len'] * 0.1) + (x['cosine_similarity'] * 0.9) if x['Text_ssts'] != '-' else 0, axis=1)\n",
    "\n",
    "##############\n",
    "# применение функции\n",
    "df['Complience Level'] = df['total_score'].map(complience_level)\n",
    "# формирование файла отчёта\n",
    "sub = df[['Number', 'Name_uc', 'Difference', 'Description', 'Complience Level']]\n",
    "sub = sub.rename(columns={\"Name_uc\": \"Name\"})\n",
    "# завершение обработки файлов\n",
    "\n",
    "# конечное время\n",
    "end_time = time.time()\n",
    "# разница между конечным и начальным временем\n",
    "elapsed_time = end_time - start_time\n",
    "print(\"Elapsed time: \", round(elapsed_time, 3), \"second\")\n",
    "print(\"Number of files: \", len(hmi_files) + len(ssts_files))\n",
    "print(\"Mean time per file: \", round(elapsed_time/(len(hmi_files) + len(ssts_files)), 3), \"second\")\n",
    "sub.head()"
   ]
  },
  {
   "cell_type": "code",
   "execution_count": 16,
   "metadata": {},
   "outputs": [],
   "source": [
    "# сохранение отчета в файл\n",
    "sub.to_csv('data/submission.csv', index = False)"
   ]
  },
  {
   "cell_type": "code",
   "execution_count": 17,
   "metadata": {},
   "outputs": [
    {
     "data": {
      "image/png": "[encoded data removed]",
      "text/plain": [
       "<Figure size 500x100 with 1 Axes>"
      ]
     },
     "metadata": {},
     "output_type": "display_data"
    }
   ],
   "source": [
    "# задание палитры цветов\n",
    "colors = [\"#09214a\", \"#567189\", \"#7B8FA1\", \"#CFB997\", \"#FAD6A5\"]\n",
    "sns.palplot(sns.color_palette(colors))"
   ]
  },
  {
   "cell_type": "code",
   "execution_count": 18,
   "metadata": {},
   "outputs": [],
   "source": [
    "# подсчет количества оценок\n",
    "cl_count = sub[\"Complience Level\"].value_counts()"
   ]
  },
  {
   "cell_type": "code",
   "execution_count": 19,
   "metadata": {},
   "outputs": [
    {
     "data": {
      "text/plain": [
       "['LC', 'NC', 'NA', 'FC']"
      ]
     },
     "execution_count": 19,
     "metadata": {},
     "output_type": "execute_result"
    }
   ],
   "source": [
    "# наименование классов\n",
    "cl_count.index.to_list()"
   ]
  },
  {
   "cell_type": "code",
   "execution_count": 20,
   "metadata": {},
   "outputs": [],
   "source": [
    "# упорядочивание классов по значимости\n",
    "col_names = [col_name for col_name in [\"FC\", \"LC\", \"PC\", \"NC\", \"NA\"] if col_name in cl_count.index.to_list()]"
   ]
  },
  {
   "cell_type": "code",
   "execution_count": 21,
   "metadata": {},
   "outputs": [
    {
     "data": {
      "text/plain": [
       "Complience Level\n",
       "FC    1\n",
       "LC    6\n",
       "NC    4\n",
       "NA    1\n",
       "Name: count, dtype: int64"
      ]
     },
     "execution_count": 21,
     "metadata": {},
     "output_type": "execute_result"
    }
   ],
   "source": [
    "# упорядочивание классов по значимости\n",
    "cl_count = cl_count[col_names]\n",
    "cl_count"
   ]
  },
  {
   "cell_type": "code",
   "execution_count": 23,
   "metadata": {},
   "outputs": [
    {
     "data": {
      "image/png": "[encoded data removed]",
      "text/plain": [
       "<Figure size 640x480 with 1 Axes>"
      ]
     },
     "metadata": {},
     "output_type": "display_data"
    }
   ],
   "source": [
    "# визуализация соотношения оценок\n",
    "def func(pct, allvals):\n",
    "    absolute = float(pct/100.*np.sum(allvals))\n",
    "    return \"{:.1f}% ({:.2f})\".format(pct, absolute)\n",
    "\n",
    "plt.pie(cl_count , colors=colors[:len(col_names)], \\\n",
    "        autopct=lambda pct: func(pct, cl_count), radius=2, startangle = 270, explode = [0.1, 0, 0.1, 0.1, 0.05][:len(col_names)])\n",
    "plt.title(\"RFI/RFP result\", size = 20, pad=100)\n",
    "plt.legend(labels=cl_count.index, title =\"Complience Level\", loc=\"upper right\", bbox_to_anchor =(1.5, 0, 0.5, 1))\n",
    "plt.show()"
   ]
  }
 ],
 "metadata": {
  "kernelspec": {
   "display_name": "venv",
   "language": "python",
   "name": "python3"
  },
  "language_info": {
   "codemirror_mode": {
    "name": "ipython",
    "version": 3
   },
   "file_extension": ".py",
   "mimetype": "text/x-python",
   "name": "python",
   "nbconvert_exporter": "python",
   "pygments_lexer": "ipython3",
   "version": "3.10.12"
  }
 },
 "nbformat": 4,
 "nbformat_minor": 2
}
