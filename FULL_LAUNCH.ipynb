{
 "cells": [
  {
   "cell_type": "code",
   "execution_count": 191,
   "metadata": {},
   "outputs": [],
   "source": [
    "# импорт необходимых библиотек\n",
    "import os\n",
    "import re\n",
    "import time\n",
    "import pandas as pd\n",
    "import numpy as np\n",
    "from typing import List\n",
    "from docx import Document\n",
    "from transformers import BartTokenizer, BartForConditionalGeneration\n",
    "from sentence_transformers import SentenceTransformer, util\n",
    "import matplotlib.pyplot as plt\n",
    "import seaborn as sns\n",
    "\n",
    "%matplotlib inline"
   ]
  },
  {
   "cell_type": "code",
   "execution_count": 192,
   "metadata": {},
   "outputs": [],
   "source": [
    "def walk_path_files(directory: str) -> List[List[str]]:\n",
    "    \"\"\"функция получение patch файлов по контексту\n",
    "\n",
    "    Args:\n",
    "        directoty (str): путь к директории с файлами\n",
    "\n",
    "    Returns:\n",
    "        List[List[str]]: списки файлов HMI и SSTS\n",
    "    \"\"\"\n",
    "    # списки файлов HMI и SSTS\n",
    "    hmi_files = []\n",
    "    ssts_files = []\n",
    "\n",
    "    # получение patch файлов по контексту\n",
    "    for root, dirs, files in os.walk(directory, topdown = False):\n",
    "        for name in files:\n",
    "            # файлы директории HMI\n",
    "            if \"HMI\" in root:\n",
    "                hmi_files.append(os.path.join(root, name))\n",
    "            # файлы директории SSTS\n",
    "            if \"SSTS\" in root:\n",
    "                ssts_files.append(os.path.join(root, name))\n",
    "\n",
    "    return [hmi_files, ssts_files]"
   ]
  },
  {
   "cell_type": "code",
   "execution_count": 193,
   "metadata": {},
   "outputs": [],
   "source": [
    "def open_docx_file(pacth: str, file_folder: str)-> List[str]:\n",
    "    \"\"\"функция извлечения текста из файлов с расширением .docx\n",
    "\n",
    "    Args:\n",
    "        pacth (str): путь к файлу\n",
    "\n",
    "    Returns:\n",
    "        List[str]: [наименование функции, текс файла]\n",
    "    \"\"\"\n",
    "\n",
    "    document = Document(pacth)\n",
    "    paragraphs = [p.text.strip().replace(\"\\xa0\", \" \") for p in document.paragraphs if len(p.text) != 0]\n",
    "\n",
    "    if file_folder == \"HMI\":\n",
    "        return [paragraphs[0].split(\"]\")[-1].strip(), \" \".join(paragraphs[1:])]\n",
    "    if file_folder == \"SSTS\":\n",
    "        return [paragraphs[0].strip(), \" \".join(paragraphs[1:])]"
   ]
  },
  {
   "cell_type": "code",
   "execution_count": 194,
   "metadata": {},
   "outputs": [],
   "source": [
    "def findall_numbers(text: str) -> int:\n",
    "    \"\"\"функция извлечения номера файла из patch файла\n",
    "\n",
    "    Args:\n",
    "        text (str): путь к файлу\n",
    "\n",
    "    Returns:\n",
    "        int: номер файла\n",
    "    \"\"\"\n",
    "    numbers = re.findall(r'\\b\\d+\\b', text)\n",
    "    return numbers[0]"
   ]
  },
  {
   "cell_type": "code",
   "execution_count": 195,
   "metadata": {},
   "outputs": [],
   "source": [
    "def file_processing(list_files: List[str], directory_name: str = \"HMI\") -> List[List[str]]:\n",
    "    \"\"\"функция извлечени ключевых призноков из файла\n",
    "\n",
    "    Args:\n",
    "        phmi_files: List[str]: список путей к файлам\n",
    "        directory_name: наименование директории с файлами\n",
    "\n",
    "    Returns:\n",
    "        List[Lst[str]]: признаки данных\n",
    "    \"\"\"\n",
    "\n",
    "    # обработка файлов \n",
    "    text_list = []\n",
    "    for file in list_files:\n",
    "        name, text = open_docx_file(file, directory_name)\n",
    "        number = findall_numbers(file)\n",
    "        # формирование признаков\n",
    "        text_list.append([number, name, text])\n",
    "\n",
    "    return  text_list"
   ]
  },
  {
   "cell_type": "code",
   "execution_count": 196,
   "metadata": {},
   "outputs": [],
   "source": [
    "def make_df(text: List[str]) -> pd.DataFrame:\n",
    "    \"\"\"функция преобразования текста в Data Frame\n",
    "\n",
    "    Args:\n",
    "        text (List[str]): признаки данных файлов\n",
    "\n",
    "    Returns:\n",
    "        pd.DataFrame: Data Frame с данными призноков по каждому файлу\n",
    "    \"\"\"\n",
    "\n",
    "    df = pd.DataFrame(text, columns=[\"Number\", \"Name\", \"Text\"])\n",
    "\n",
    "    return df"
   ]
  },
  {
   "cell_type": "code",
   "execution_count": 197,
   "metadata": {},
   "outputs": [],
   "source": [
    "def merge_df(hmi_df: pd.DataFrame, ssts_df: pd.DataFrame) -> pd.DataFrame:\n",
    "    \"\"\"функция объединения признаков данных\n",
    "\n",
    "    Args:\n",
    "        hmi_df (pd.DataFrame): Data Frame с данными призноков файлов HMI\n",
    "        ssts_df (pd.DataFrame): Data Frame с данными призноков файлов SSTS\n",
    "\n",
    "    Returns:\n",
    "        pd.DataFrame: признаки данных по документации\n",
    "    \"\"\"\n",
    "\n",
    "    df = hmi_df.merge(ssts_df, on=\"Number\", how=\"left\", suffixes=[\"_uc\", \"_ssts\"])\n",
    "    df = df.fillna(\"-\")\n",
    "\n",
    "    return df"
   ]
  },
  {
   "cell_type": "code",
   "execution_count": 198,
   "metadata": {},
   "outputs": [],
   "source": [
    "# Загрузка модели и токенизатора BART\n",
    "model = BartForConditionalGeneration.from_pretrained(\"./bart_model\")\n",
    "tokenizer = BartTokenizer.from_pretrained(\"./bart_model\")"
   ]
  },
  {
   "cell_type": "code",
   "execution_count": 199,
   "metadata": {},
   "outputs": [],
   "source": [
    "# загрузка берт с локального компа\n",
    "model_bert = SentenceTransformer('./roberta_model')"
   ]
  },
  {
   "cell_type": "code",
   "execution_count": 200,
   "metadata": {},
   "outputs": [],
   "source": [
    "def generate_difference(row):\n",
    "    text1 = row['Text_uc']\n",
    "    text2 = row['Text_ssts']\n",
    "\n",
    "    # Форматирование входных данных для модели BART\n",
    "    input_text = (\n",
    "        f\"Identify the different content, text1 and text2: \"\n",
    "        f\"First text: {text1} </s> Second text: {text2}\"\n",
    "    )\n",
    "\n",
    "    #input_text = f\"Find the differences in the second text compared to the first: {text2} </s> {text1}\"\n",
    "    # input_text = (\n",
    "    #     f\"Context the differences in characteristics and specifications between the first text and the second text. \"\n",
    "    #     f\"First text: {text1} </s> Second text: {text2}\"\n",
    "    # )\n",
    "    input_ids = tokenizer.encode(input_text, return_tensors=\"pt\")\n",
    "\n",
    "    # Проверка длины входных данных на размерность токена 1024\n",
    "    if input_ids.shape[1] > 1024:\n",
    "        input_ids = input_ids[:, :1024]\n",
    "\n",
    "    # Генерация описания расхождений\n",
    "    if text2 != '-':\n",
    "        try:\n",
    "            outputs = model.generate(\n",
    "                input_ids,\n",
    "                max_length=60,\n",
    "                num_beams=7,\n",
    "                early_stopping=True,\n",
    "                do_sample=True,\n",
    "                temperature=0.95,\n",
    "                top_k=50,\n",
    "                top_p=0.90\n",
    "            )\n",
    "            description = tokenizer.decode(outputs[0], skip_special_tokens=True)\n",
    "        except IndexError as e:\n",
    "            print(f\"Error during generation: {e}\")\n",
    "            return \"Ошибка генерации\"\n",
    "        description = ':'.join(description.split(':')[2:])\n",
    "    else:\n",
    "        description = '-'\n",
    "    return description"
   ]
  },
  {
   "cell_type": "code",
   "execution_count": 201,
   "metadata": {},
   "outputs": [],
   "source": [
    "def generate_description(row):\n",
    "\n",
    "\n",
    "    text1 = row['Text_uc']\n",
    "    text2 = row['Text_ssts']\n",
    "\n",
    "    # Форматирование входных данных для модели BART\n",
    "    input_text = (\n",
    "        f\"Discribe the differences in characteristics and specifications between the first text and the second text. \"\n",
    "        f\"First text: {text1} </s> Second text: {text2}\"\n",
    "    )\n",
    "    #input_text = f\"Find the differences in the first text compared to the second: {text1} </s> {text2}\"\n",
    "    #input_text = f\"Find the differences in the first text compared to the second that are not in the third: {text1} </s> {text2} </s> {text3}\"\n",
    "    input_ids = tokenizer.encode(input_text, return_tensors=\"pt\")\n",
    "\n",
    "    # Проверка длины входных данных на размерность токена 1024\n",
    "    if input_ids.shape[1] > 1024:\n",
    "        input_ids = input_ids[:, :1024]\n",
    "\n",
    "    # Генерация описания расхождений\n",
    "    try:\n",
    "        outputs = model.generate(\n",
    "            input_ids,\n",
    "            max_length=150,\n",
    "            num_beams=5,\n",
    "            early_stopping=True,\n",
    "            do_sample=True,\n",
    "            temperature=0.65,\n",
    "            top_k=50,\n",
    "            top_p=0.90\n",
    "        )\n",
    "        description = tokenizer.decode(outputs[0], skip_special_tokens=True)\n",
    "    except IndexError as e:\n",
    "        print(f\"Error during generation: {e}\")\n",
    "        return \"Ошибка генерации\"\n",
    "    description = ':'.join(description.split(':')[2:])\n",
    "    return description"
   ]
  },
  {
   "cell_type": "code",
   "execution_count": 202,
   "metadata": {},
   "outputs": [],
   "source": [
    "# Загрузка модели DistilBERT\n",
    "\n",
    "def preprocess_text(text):\n",
    "    if text == '-':  # Проверка на NaN\n",
    "        return \"-\"\n",
    "    text = text.lower()  # Приведение к нижнему регистру\n",
    "    text = re.sub(r'\\s+', ' ', text)  # Удаление лишних пробелов\n",
    "    text = re.sub(r'[^\\w\\s]', '', text)  # Удаление пунктуации\n",
    "    return text\n",
    "\n",
    "# Функция для вычисления косинусного сходства\n",
    "def compute_cosine_similarity(row):\n",
    "    text1 = preprocess_text(row['Text_uc'])\n",
    "    text2 = preprocess_text(row['Difference'])\n",
    "\n",
    "    # Проверка на наличие NaN значений\n",
    "    if text1 == '-' or text2 == '-':\n",
    "        return 0\n",
    "\n",
    "    # Получение векторных представлений для текстов\n",
    "    embeddings1 = model_bert.encode(text1)\n",
    "    embeddings2 = model_bert.encode(text2)\n",
    "\n",
    "    # Вычисление косинусного сходства\n",
    "    cosine_similarity = util.pytorch_cos_sim(embeddings1, embeddings2)\n",
    "\n",
    "    return cosine_similarity.item()"
   ]
  },
  {
   "cell_type": "code",
   "execution_count": null,
   "metadata": {},
   "outputs": [],
   "source": [
    "def complience_level(value) -> str:\n",
    "    \"\"\"функция интерпритации соответствия\n",
    "\n",
    "    Args:\n",
    "        value (_type_): показатель соответствия\n",
    "\n",
    "    Returns:\n",
    "        str: метка класса\n",
    "    \"\"\"\n",
    "    if value > 0.85:\n",
    "        return 'FC'\n",
    "    elif value > 0.75 and value <= 0.85:\n",
    "        return 'LC'\n",
    "    elif value > 0.65 and value <= 0.75:\n",
    "        return 'PC'\n",
    "    elif 0.01 < value <= 0.65:\n",
    "        return 'NC'\n",
    "    else:\n",
    "        return 'NA'"
   ]
  },
  {
   "cell_type": "code",
   "execution_count": 204,
   "metadata": {},
   "outputs": [],
   "source": [
    "# путь к директории с файлами\n",
    "# directory = \"data/val_data/\""
   ]
  },
  {
   "cell_type": "code",
   "execution_count": 205,
   "metadata": {},
   "outputs": [],
   "source": [
    "# путь к директории с файлами\n",
    "directory = \"data/test_data/\""
   ]
  },
  {
   "cell_type": "code",
   "execution_count": 206,
   "metadata": {},
   "outputs": [
    {
     "name": "stdout",
     "output_type": "stream",
     "text": [
      "Elapsed time:  84.518 second\n",
      "Number of files:  30\n",
      "Mean time per file:  2.817 second\n",
      "CPU times: user 18min 57s, sys: 5.44 s, total: 19min 3s\n",
      "Wall time: 1min 24s\n"
     ]
    },
    {
     "data": {
      "text/html": [
       "<div>\n",
       "<style scoped>\n",
       "    .dataframe tbody tr th:only-of-type {\n",
       "        vertical-align: middle;\n",
       "    }\n",
       "\n",
       "    .dataframe tbody tr th {\n",
       "        vertical-align: top;\n",
       "    }\n",
       "\n",
       "    .dataframe thead th {\n",
       "        text-align: right;\n",
       "    }\n",
       "</style>\n",
       "<table border=\"1\" class=\"dataframe\">\n",
       "  <thead>\n",
       "    <tr style=\"text-align: right;\">\n",
       "      <th></th>\n",
       "      <th>Number</th>\n",
       "      <th>Name</th>\n",
       "      <th>Difference</th>\n",
       "      <th>Description</th>\n",
       "      <th>Complience Level</th>\n",
       "    </tr>\n",
       "  </thead>\n",
       "  <tbody>\n",
       "    <tr>\n",
       "      <th>0</th>\n",
       "      <td>65831</td>\n",
       "      <td>Driver initiate a call through SWP</td>\n",
       "      <td>Preconditions: The IVI is on in_2 The vehicle...</td>\n",
       "      <td>The IVI is on in_2 The vehicle must be in par...</td>\n",
       "      <td>NC</td>\n",
       "    </tr>\n",
       "    <tr>\n",
       "      <th>1</th>\n",
       "      <td>259572</td>\n",
       "      <td>Mute/unmute the FM Radio playback</td>\n",
       "      <td>Preconditions: User is playing FM Radio Main ...</td>\n",
       "      <td>User is playing FM Radio Main Scenario: ​​​Us...</td>\n",
       "      <td>FC</td>\n",
       "    </tr>\n",
       "    <tr>\n",
       "      <th>2</th>\n",
       "      <td>315231</td>\n",
       "      <td>Adding Internet Radio to Favorites List</td>\n",
       "      <td>Use Case: Adding Internet Radio to Favorites ...</td>\n",
       "      <td>Adding Internet Radio to Favorites List Goal:...</td>\n",
       "      <td>LC</td>\n",
       "    </tr>\n",
       "    <tr>\n",
       "      <th>3</th>\n",
       "      <td>88001</td>\n",
       "      <td>Receiving Call Notifications</td>\n",
       "      <td>Preconditions: The driver's smartphone is con...</td>\n",
       "      <td>The driver's smartphone is connected to the v...</td>\n",
       "      <td>PC</td>\n",
       "    </tr>\n",
       "    <tr>\n",
       "      <th>4</th>\n",
       "      <td>65833</td>\n",
       "      <td>Driver initiate a call through SWP</td>\n",
       "      <td>Preconditions: The IVI is on in_2 The driver'...</td>\n",
       "      <td>The IVI is on in_2 The driver's smartphone is...</td>\n",
       "      <td>PC</td>\n",
       "    </tr>\n",
       "  </tbody>\n",
       "</table>\n",
       "</div>"
      ],
      "text/plain": [
       "   Number                                     Name  \\\n",
       "0   65831       Driver initiate a call through SWP   \n",
       "1  259572        Mute/unmute the FM Radio playback   \n",
       "2  315231  Adding Internet Radio to Favorites List   \n",
       "3   88001             Receiving Call Notifications   \n",
       "4   65833       Driver initiate a call through SWP   \n",
       "\n",
       "                                          Difference  \\\n",
       "0   Preconditions: The IVI is on in_2 The vehicle...   \n",
       "1   Preconditions: User is playing FM Radio Main ...   \n",
       "2   Use Case: Adding Internet Radio to Favorites ...   \n",
       "3   Preconditions: The driver's smartphone is con...   \n",
       "4   Preconditions: The IVI is on in_2 The driver'...   \n",
       "\n",
       "                                         Description Complience Level  \n",
       "0   The IVI is on in_2 The vehicle must be in par...               NC  \n",
       "1   User is playing FM Radio Main Scenario: ​​​Us...               FC  \n",
       "2   Adding Internet Radio to Favorites List Goal:...               LC  \n",
       "3   The driver's smartphone is connected to the v...               PC  \n",
       "4   The IVI is on in_2 The driver's smartphone is...               PC  "
      ]
     },
     "execution_count": 206,
     "metadata": {},
     "output_type": "execute_result"
    }
   ],
   "source": [
    "%%time\n",
    "# обработка файлов с замеров суммарного времени\n",
    "\n",
    "# начальное время\n",
    "start_time = time.time()\n",
    "\n",
    "# начало обработки\n",
    "\n",
    "hmi_files, ssts_files = walk_path_files(directory)\n",
    "hmi_text = file_processing(hmi_files, \"HMI\")\n",
    "ssts_text = file_processing(ssts_files, \"SSTS\")\n",
    "hmi_df = make_df(hmi_text)\n",
    "# удаление не релевантного текста\n",
    "hmi_df[\"Text\"] = hmi_df[\"Text\"].apply(lambda x: \" \".join(x.split()[1:]) if \"Description\" in x else x)\n",
    "ssts_df = make_df(ssts_text)\n",
    "# удаление не релевантного текста\n",
    "ssts_df[\"Text\"] = ssts_df[\"Text\"].apply(lambda x: \" \".join(x.split()[2:]) if \"Functional Description\" in x else x)\n",
    "df = merge_df(hmi_df, ssts_df)\n",
    "# получения различий в контексте текстов 2 документов\n",
    "df['Difference'] = df.apply(generate_difference, axis=1)\n",
    "# Применение функции к каждой строке DataFrame\n",
    "df['Description'] = df.apply(generate_description, axis=1)\n",
    "# Применение функции к каждой строке DataFrame\n",
    "df['cosine_similarity'] = df.apply(compute_cosine_similarity, axis=1)\n",
    "# оценка соответствия\n",
    "df['len'] = df['Difference'].map(lambda x: len(x))\n",
    "df['len_worlds'] = df['Difference'].map(lambda x: len(x.split()))\n",
    "##############\n",
    "\n",
    "df['total_score'] = df.apply(lambda x: (x['len_worlds'] / x['len'] * 0.1) + (x['cosine_similarity'] * 0.9) if x['Text_ssts'] != '-' else 0, axis=1)\n",
    "\n",
    "##############\n",
    "# применение функции\n",
    "df['Complience Level'] = df['total_score'].map(complience_level)\n",
    "# формирование файла отчёта\n",
    "sub = df[['Number', 'Name_uc', 'Difference', 'Description', 'Complience Level']]\n",
    "sub = sub.rename(columns={\"Name_uc\": \"Name\"})\n",
    "# завершение обработки файлов\n",
    "\n",
    "# конечное время\n",
    "end_time = time.time()\n",
    "# разница между конечным и начальным временем\n",
    "elapsed_time = end_time - start_time\n",
    "print(\"Elapsed time: \", round(elapsed_time, 3), \"second\")\n",
    "print(\"Number of files: \", len(hmi_files) + len(ssts_files))\n",
    "print(\"Mean time per file: \", round(elapsed_time/(len(hmi_files) + len(ssts_files)), 3), \"second\")\n",
    "sub.head()"
   ]
  },
  {
   "cell_type": "code",
   "execution_count": 207,
   "metadata": {},
   "outputs": [],
   "source": [
    "# сохранение отчета в файл\n",
    "sub.to_csv('data/submission.csv', index = False)"
   ]
  },
  {
   "cell_type": "code",
   "execution_count": 208,
   "metadata": {},
   "outputs": [
    {
     "data": {
      "text/plain": [
       "(15, 5)"
      ]
     },
     "execution_count": 208,
     "metadata": {},
     "output_type": "execute_result"
    }
   ],
   "source": [
    "sub.shape"
   ]
  },
  {
   "cell_type": "code",
   "execution_count": 209,
   "metadata": {},
   "outputs": [
    {
     "data": {
      "image/png": "[encoded data removed]",
      "text/plain": [
       "<Figure size 500x100 with 1 Axes>"
      ]
     },
     "metadata": {},
     "output_type": "display_data"
    }
   ],
   "source": [
    "# задание палитры цветов\n",
    "colors = [\"#09214a\", \"#567189\", \"#7B8FA1\", \"#CFB997\", \"#FAD6A5\"]\n",
    "sns.palplot(sns.color_palette(colors))"
   ]
  },
  {
   "cell_type": "code",
   "execution_count": 210,
   "metadata": {},
   "outputs": [],
   "source": [
    "# подсчет количества оценок\n",
    "cl_count = sub[\"Complience Level\"].value_counts()"
   ]
  },
  {
   "cell_type": "code",
   "execution_count": 211,
   "metadata": {},
   "outputs": [
    {
     "data": {
      "text/plain": [
       "['LC', 'PC', 'FC', 'NC']"
      ]
     },
     "execution_count": 211,
     "metadata": {},
     "output_type": "execute_result"
    }
   ],
   "source": [
    "# наименование классов\n",
    "cl_count.index.to_list()"
   ]
  },
  {
   "cell_type": "code",
   "execution_count": 212,
   "metadata": {},
   "outputs": [],
   "source": [
    "# упорядочивание классов по значимости\n",
    "col_names = [col_name for col_name in [\"FC\", \"LC\", \"PC\", \"NC\", \"NA\"] if col_name in cl_count.index.to_list()]"
   ]
  },
  {
   "cell_type": "code",
   "execution_count": 213,
   "metadata": {},
   "outputs": [
    {
     "data": {
      "text/plain": [
       "Complience Level\n",
       "FC    3\n",
       "LC    6\n",
       "PC    5\n",
       "NC    1\n",
       "Name: count, dtype: int64"
      ]
     },
     "execution_count": 213,
     "metadata": {},
     "output_type": "execute_result"
    }
   ],
   "source": [
    "# упорядочивание классов по значимости\n",
    "cl_count = cl_count[col_names]\n",
    "cl_count"
   ]
  },
  {
   "cell_type": "code",
   "execution_count": 214,
   "metadata": {},
   "outputs": [
    {
     "data": {
      "image/png": "[encoded data removed]",
      "text/plain": [
       "<Figure size 640x480 with 1 Axes>"
      ]
     },
     "metadata": {},
     "output_type": "display_data"
    }
   ],
   "source": [
    "# визуализация соотношения оценок\n",
    "def func(pct, allvals):\n",
    "    absolute = float(pct/100.*np.sum(allvals))\n",
    "    return \"{:.1f}% ({:.2f})\".format(pct, absolute)\n",
    "\n",
    "plt.pie(cl_count , colors=colors[:len(col_names)], \\\n",
    "        autopct=lambda pct: func(pct, cl_count), radius=2, startangle = 270, explode = [0.1, 0, 0.1, 0.1, 0.05][:len(col_names)])\n",
    "plt.title(\"RFI/RFP result\", size = 20, pad=100)\n",
    "plt.legend(labels=cl_count.index, title =\"Complience Level\", loc=\"upper right\", bbox_to_anchor =(1.5, 0, 0.5, 1))\n",
    "plt.show()"
   ]
  }
 ],
 "metadata": {
  "kernelspec": {
   "display_name": "venv",
   "language": "python",
   "name": "python3"
  },
  "language_info": {
   "codemirror_mode": {
    "name": "ipython",
    "version": 3
   },
   "file_extension": ".py",
   "mimetype": "text/x-python",
   "name": "python",
   "nbconvert_exporter": "python",
   "pygments_lexer": "ipython3",
   "version": "3.10.12"
  }
 },
 "nbformat": 4,
 "nbformat_minor": 2
}
